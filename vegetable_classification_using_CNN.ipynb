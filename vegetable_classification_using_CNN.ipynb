{
  "nbformat": 4,
  "nbformat_minor": 0,
  "metadata": {
    "colab": {
      "provenance": []
    },
    "kernelspec": {
      "name": "python3",
      "display_name": "Python 3"
    },
    "language_info": {
      "name": "python"
    },
    "accelerator": "GPU",
    "gpuClass": "standard"
  },
  "cells": [
    {
      "cell_type": "code",
      "execution_count": 1,
      "metadata": {
        "colab": {
          "base_uri": "https://localhost:8080/"
        },
        "id": "b06dYj6_Hg29",
        "outputId": "098c6be1-206f-4e72-bf15-db1c34baba03"
      },
      "outputs": [
        {
          "output_type": "stream",
          "name": "stdout",
          "text": [
            "Drive already mounted at /content/drive/; to attempt to forcibly remount, call drive.mount(\"/content/drive/\", force_remount=True).\n"
          ]
        }
      ],
      "source": [
        "from google.colab import drive\n",
        "drive.mount(\"/content/drive/\")\n",
        "     "
      ]
    },
    {
      "cell_type": "code",
      "source": [
        "import os\n",
        "os.listdir(\"/content/drive/MyDrive/Colab Notebooks\")"
      ],
      "metadata": {
        "colab": {
          "base_uri": "https://localhost:8080/"
        },
        "id": "4GzfAjdpRHWM",
        "outputId": "0c8175ca-5d37-43a7-c8ea-2e242de7f6ab"
      },
      "execution_count": 3,
      "outputs": [
        {
          "output_type": "execute_result",
          "data": {
            "text/plain": [
              "['credit_card_churn.csv',\n",
              " 'Untitled0.ipynb',\n",
              " 'Copy of Welcome To Colaboratory (1)',\n",
              " 'Untitled1.ipynb',\n",
              " 'credit.ipynb',\n",
              " 'Copy of Welcome To Colaboratory',\n",
              " 'Untitled2.ipynb',\n",
              " 'Untitled3.ipynb',\n",
              " 'Dataset',\n",
              " 'vegetable model.ipynb',\n",
              " 'vegetable.ipynb']"
            ]
          },
          "metadata": {},
          "execution_count": 3
        }
      ]
    },
    {
      "cell_type": "code",
      "source": [
        "filepath = \"/content/drive/MyDrive/Colab Notebooks/Dataset/archive (4).zip\""
      ],
      "metadata": {
        "id": "YxUBb1cORR8F"
      },
      "execution_count": 4,
      "outputs": []
    },
    {
      "cell_type": "code",
      "source": [
        "from zipfile import ZipFile\n",
        "\n",
        "with ZipFile(filepath) as f:\n",
        "  f.extractall(\"./veg\")\n",
        "  print(\"Data extracted\")"
      ],
      "metadata": {
        "colab": {
          "base_uri": "https://localhost:8080/"
        },
        "id": "B-1nHDHlR8_4",
        "outputId": "1ff6b711-8c03-40f1-9d20-419ab04d524b"
      },
      "execution_count": 5,
      "outputs": [
        {
          "output_type": "stream",
          "name": "stdout",
          "text": [
            "Data extracted\n"
          ]
        }
      ]
    },
    {
      "cell_type": "code",
      "source": [
        "os.listdir(\".\")"
      ],
      "metadata": {
        "colab": {
          "base_uri": "https://localhost:8080/"
        },
        "id": "KTzHSxH7b5Z4",
        "outputId": "921d1f55-271e-44a6-cb1e-4ca46affe9e4"
      },
      "execution_count": 6,
      "outputs": [
        {
          "output_type": "execute_result",
          "data": {
            "text/plain": [
              "['.config', 'drive', 'veg', 'sample_data']"
            ]
          },
          "metadata": {},
          "execution_count": 6
        }
      ]
    },
    {
      "cell_type": "code",
      "source": [
        "import tensorflow as tf\n",
        "from PIL import Image\n",
        "from tensorflow.keras import layers"
      ],
      "metadata": {
        "id": "KYo09ozicLYE"
      },
      "execution_count": 16,
      "outputs": []
    },
    {
      "cell_type": "code",
      "source": [
        "\n",
        "img = Image.open(\"/content/veg/Vegetable Images/test/Bean/0001.jpg\")\n",
        "img.size\n",
        "     \n"
      ],
      "metadata": {
        "colab": {
          "base_uri": "https://localhost:8080/"
        },
        "id": "dYIbWzoncRMv",
        "outputId": "4f22b10c-e61a-413c-ed93-5907e19f8f07"
      },
      "execution_count": 17,
      "outputs": [
        {
          "output_type": "execute_result",
          "data": {
            "text/plain": [
              "(224, 224)"
            ]
          },
          "metadata": {},
          "execution_count": 17
        }
      ]
    },
    {
      "cell_type": "code",
      "source": [
        "data= tf.keras.utils.image_dataset_from_directory(\n",
        "    \"/content/veg/Vegetable Images/train\",\n",
        "    image_size=(32,32),\n",
        "    color_mode=\"rgb\",\n",
        "    batch_size=15000\n",
        ")\n",
        "     "
      ],
      "metadata": {
        "colab": {
          "base_uri": "https://localhost:8080/"
        },
        "id": "haCiwdgYcfDS",
        "outputId": "12bdd1ef-31a7-454a-cc47-ccaf2f9432de"
      },
      "execution_count": 18,
      "outputs": [
        {
          "output_type": "stream",
          "name": "stdout",
          "text": [
            "Found 15000 files belonging to 15 classes.\n"
          ]
        }
      ]
    },
    {
      "cell_type": "code",
      "source": [
        "len(data)"
      ],
      "metadata": {
        "colab": {
          "base_uri": "https://localhost:8080/"
        },
        "id": "yqwQw371dN51",
        "outputId": "4ab47563-9225-40b3-ede3-2c67b69e6a3f"
      },
      "execution_count": 19,
      "outputs": [
        {
          "output_type": "execute_result",
          "data": {
            "text/plain": [
              "1"
            ]
          },
          "metadata": {},
          "execution_count": 19
        }
      ]
    },
    {
      "cell_type": "code",
      "source": [
        "model=tf.keras.Sequential([\n",
        "    layers.Conv2D(9,5,padding=\"same\", activation=\"leaky_relu\", input_shape=(32,32,3)),\n",
        "    layers.MaxPool2D(),\n",
        "    layers.Conv2D(18,3,padding=\"same\", activation=\"leaky_relu\"),\n",
        "    layers.MaxPool2D(),\n",
        "    layers.Conv2D(27,3,padding=\"same\", activation=\"leaky_relu\"),\n",
        "    layers.MaxPool2D(),\n",
        "    layers.Conv2D(27,3,padding=\"same\", activation=\"relu\"),\n",
        "    layers.MaxPool2D(),\n",
        "    layers.Flatten(),\n",
        "    layers.Dense(300,activation=\"relu\"),\n",
        "    layers.Dense(15),\n",
        "    layers.Softmax()\n",
        "])\n",
        "     "
      ],
      "metadata": {
        "id": "e5OPObPNdQ7z"
      },
      "execution_count": 20,
      "outputs": []
    },
    {
      "cell_type": "code",
      "source": [
        "model.summary()"
      ],
      "metadata": {
        "colab": {
          "base_uri": "https://localhost:8080/"
        },
        "id": "nDPFyFRYhdp8",
        "outputId": "da1d0aab-b259-4b9e-8b37-94d069598a73"
      },
      "execution_count": 21,
      "outputs": [
        {
          "output_type": "stream",
          "name": "stdout",
          "text": [
            "Model: \"sequential_1\"\n",
            "_________________________________________________________________\n",
            " Layer (type)                Output Shape              Param #   \n",
            "=================================================================\n",
            " conv2d_4 (Conv2D)           (None, 32, 32, 9)         684       \n",
            "                                                                 \n",
            " max_pooling2d_4 (MaxPooling  (None, 16, 16, 9)        0         \n",
            " 2D)                                                             \n",
            "                                                                 \n",
            " conv2d_5 (Conv2D)           (None, 16, 16, 18)        1476      \n",
            "                                                                 \n",
            " max_pooling2d_5 (MaxPooling  (None, 8, 8, 18)         0         \n",
            " 2D)                                                             \n",
            "                                                                 \n",
            " conv2d_6 (Conv2D)           (None, 8, 8, 27)          4401      \n",
            "                                                                 \n",
            " max_pooling2d_6 (MaxPooling  (None, 4, 4, 27)         0         \n",
            " 2D)                                                             \n",
            "                                                                 \n",
            " conv2d_7 (Conv2D)           (None, 4, 4, 27)          6588      \n",
            "                                                                 \n",
            " max_pooling2d_7 (MaxPooling  (None, 2, 2, 27)         0         \n",
            " 2D)                                                             \n",
            "                                                                 \n",
            " flatten_1 (Flatten)         (None, 108)               0         \n",
            "                                                                 \n",
            " dense_2 (Dense)             (None, 300)               32700     \n",
            "                                                                 \n",
            " dense_3 (Dense)             (None, 15)                4515      \n",
            "                                                                 \n",
            " softmax_1 (Softmax)         (None, 15)                0         \n",
            "                                                                 \n",
            "=================================================================\n",
            "Total params: 50,364\n",
            "Trainable params: 50,364\n",
            "Non-trainable params: 0\n",
            "_________________________________________________________________\n"
          ]
        }
      ]
    },
    {
      "cell_type": "code",
      "source": [
        "model.compile(\n",
        "    loss = tf.keras.losses.categorical_crossentropy,\n",
        "    optimizer = tf.keras.optimizers.Adam(),\n",
        "    metrics = [\"Accuracy\"]\n",
        ")"
      ],
      "metadata": {
        "id": "inRYTUKGdfVU"
      },
      "execution_count": 22,
      "outputs": []
    },
    {
      "cell_type": "code",
      "source": [
        "for features,labels in data:\n",
        "    features=tf.divide(features,255)\n",
        "    labels=tf.one_hot(labels,15)\n",
        "    record=model.fit(features,labels,batch_size=30,epochs=100)"
      ],
      "metadata": {
        "colab": {
          "base_uri": "https://localhost:8080/"
        },
        "id": "CjOsReNwiDzQ",
        "outputId": "7450823f-e171-44bb-fa82-ddd9d0749bcd"
      },
      "execution_count": 23,
      "outputs": [
        {
          "output_type": "stream",
          "name": "stdout",
          "text": [
            "Epoch 1/100\n",
            "500/500 [==============================] - 2s 4ms/step - loss: 1.6334 - Accuracy: 0.4442\n",
            "Epoch 2/100\n",
            "500/500 [==============================] - 2s 4ms/step - loss: 0.9113 - Accuracy: 0.6954\n",
            "Epoch 3/100\n",
            "500/500 [==============================] - 2s 4ms/step - loss: 0.6197 - Accuracy: 0.7965\n",
            "Epoch 4/100\n",
            "500/500 [==============================] - 2s 4ms/step - loss: 0.4781 - Accuracy: 0.8450\n",
            "Epoch 5/100\n",
            "500/500 [==============================] - 2s 4ms/step - loss: 0.3647 - Accuracy: 0.8838\n",
            "Epoch 6/100\n",
            "500/500 [==============================] - 2s 4ms/step - loss: 0.2859 - Accuracy: 0.9113\n",
            "Epoch 7/100\n",
            "500/500 [==============================] - 2s 4ms/step - loss: 0.2465 - Accuracy: 0.9206\n",
            "Epoch 8/100\n",
            "500/500 [==============================] - 2s 4ms/step - loss: 0.2045 - Accuracy: 0.9351\n",
            "Epoch 9/100\n",
            "500/500 [==============================] - 2s 3ms/step - loss: 0.1909 - Accuracy: 0.9388\n",
            "Epoch 10/100\n",
            "500/500 [==============================] - 2s 4ms/step - loss: 0.1576 - Accuracy: 0.9502\n",
            "Epoch 11/100\n",
            "500/500 [==============================] - 2s 4ms/step - loss: 0.1283 - Accuracy: 0.9587\n",
            "Epoch 12/100\n",
            "500/500 [==============================] - 2s 4ms/step - loss: 0.1259 - Accuracy: 0.9595\n",
            "Epoch 13/100\n",
            "500/500 [==============================] - 2s 4ms/step - loss: 0.1197 - Accuracy: 0.9620\n",
            "Epoch 14/100\n",
            "500/500 [==============================] - 2s 3ms/step - loss: 0.1054 - Accuracy: 0.9661\n",
            "Epoch 15/100\n",
            "500/500 [==============================] - 2s 4ms/step - loss: 0.0719 - Accuracy: 0.9775\n",
            "Epoch 16/100\n",
            "500/500 [==============================] - 2s 4ms/step - loss: 0.0947 - Accuracy: 0.9701\n",
            "Epoch 17/100\n",
            "500/500 [==============================] - 2s 3ms/step - loss: 0.0713 - Accuracy: 0.9767\n",
            "Epoch 18/100\n",
            "500/500 [==============================] - 2s 4ms/step - loss: 0.0734 - Accuracy: 0.9773\n",
            "Epoch 19/100\n",
            "500/500 [==============================] - 2s 4ms/step - loss: 0.0832 - Accuracy: 0.9734\n",
            "Epoch 20/100\n",
            "500/500 [==============================] - 2s 4ms/step - loss: 0.0530 - Accuracy: 0.9822\n",
            "Epoch 21/100\n",
            "500/500 [==============================] - 2s 4ms/step - loss: 0.0625 - Accuracy: 0.9791\n",
            "Epoch 22/100\n",
            "500/500 [==============================] - 2s 4ms/step - loss: 0.0368 - Accuracy: 0.9877\n",
            "Epoch 23/100\n",
            "500/500 [==============================] - 2s 4ms/step - loss: 0.0493 - Accuracy: 0.9842\n",
            "Epoch 24/100\n",
            "500/500 [==============================] - 2s 4ms/step - loss: 0.0648 - Accuracy: 0.9795\n",
            "Epoch 25/100\n",
            "500/500 [==============================] - 2s 4ms/step - loss: 0.0491 - Accuracy: 0.9839\n",
            "Epoch 26/100\n",
            "500/500 [==============================] - 2s 4ms/step - loss: 0.0499 - Accuracy: 0.9834\n",
            "Epoch 27/100\n",
            "500/500 [==============================] - 2s 4ms/step - loss: 0.0599 - Accuracy: 0.9820\n",
            "Epoch 28/100\n",
            "500/500 [==============================] - 2s 4ms/step - loss: 0.0258 - Accuracy: 0.9910\n",
            "Epoch 29/100\n",
            "500/500 [==============================] - 2s 4ms/step - loss: 0.0551 - Accuracy: 0.9833\n",
            "Epoch 30/100\n",
            "500/500 [==============================] - 2s 4ms/step - loss: 0.0433 - Accuracy: 0.9857\n",
            "Epoch 31/100\n",
            "500/500 [==============================] - 2s 4ms/step - loss: 0.0521 - Accuracy: 0.9837\n",
            "Epoch 32/100\n",
            "500/500 [==============================] - 2s 4ms/step - loss: 0.0356 - Accuracy: 0.9890\n",
            "Epoch 33/100\n",
            "500/500 [==============================] - 2s 4ms/step - loss: 0.0484 - Accuracy: 0.9842\n",
            "Epoch 34/100\n",
            "500/500 [==============================] - 2s 4ms/step - loss: 0.0393 - Accuracy: 0.9879\n",
            "Epoch 35/100\n",
            "500/500 [==============================] - 2s 4ms/step - loss: 0.0253 - Accuracy: 0.9923\n",
            "Epoch 36/100\n",
            "500/500 [==============================] - 2s 4ms/step - loss: 0.0440 - Accuracy: 0.9867\n",
            "Epoch 37/100\n",
            "500/500 [==============================] - 2s 4ms/step - loss: 0.0287 - Accuracy: 0.9911\n",
            "Epoch 38/100\n",
            "500/500 [==============================] - 2s 4ms/step - loss: 0.0431 - Accuracy: 0.9886\n",
            "Epoch 39/100\n",
            "500/500 [==============================] - 2s 4ms/step - loss: 0.0570 - Accuracy: 0.9821\n",
            "Epoch 40/100\n",
            "500/500 [==============================] - 2s 4ms/step - loss: 0.0238 - Accuracy: 0.9923\n",
            "Epoch 41/100\n",
            "500/500 [==============================] - 2s 5ms/step - loss: 0.0355 - Accuracy: 0.9898\n",
            "Epoch 42/100\n",
            "500/500 [==============================] - 2s 4ms/step - loss: 0.0584 - Accuracy: 0.9818\n",
            "Epoch 43/100\n",
            "500/500 [==============================] - 2s 4ms/step - loss: 0.0137 - Accuracy: 0.9955\n",
            "Epoch 44/100\n",
            "500/500 [==============================] - 2s 4ms/step - loss: 0.0347 - Accuracy: 0.9891\n",
            "Epoch 45/100\n",
            "500/500 [==============================] - 2s 4ms/step - loss: 0.0441 - Accuracy: 0.9866\n",
            "Epoch 46/100\n",
            "500/500 [==============================] - 2s 4ms/step - loss: 0.0284 - Accuracy: 0.9912\n",
            "Epoch 47/100\n",
            "500/500 [==============================] - 2s 3ms/step - loss: 0.0440 - Accuracy: 0.9863\n",
            "Epoch 48/100\n",
            "500/500 [==============================] - 2s 4ms/step - loss: 0.0162 - Accuracy: 0.9948\n",
            "Epoch 49/100\n",
            "500/500 [==============================] - 2s 3ms/step - loss: 0.0272 - Accuracy: 0.9911\n",
            "Epoch 50/100\n",
            "500/500 [==============================] - 2s 4ms/step - loss: 0.0480 - Accuracy: 0.9859\n",
            "Epoch 51/100\n",
            "500/500 [==============================] - 2s 3ms/step - loss: 0.0267 - Accuracy: 0.9921\n",
            "Epoch 52/100\n",
            "500/500 [==============================] - 2s 4ms/step - loss: 0.0409 - Accuracy: 0.9884\n",
            "Epoch 53/100\n",
            "500/500 [==============================] - 2s 3ms/step - loss: 0.0230 - Accuracy: 0.9923\n",
            "Epoch 54/100\n",
            "500/500 [==============================] - 2s 4ms/step - loss: 0.0053 - Accuracy: 0.9981\n",
            "Epoch 55/100\n",
            "500/500 [==============================] - 2s 4ms/step - loss: 0.0642 - Accuracy: 0.9816\n",
            "Epoch 56/100\n",
            "500/500 [==============================] - 2s 4ms/step - loss: 0.0218 - Accuracy: 0.9935\n",
            "Epoch 57/100\n",
            "500/500 [==============================] - 2s 4ms/step - loss: 0.0190 - Accuracy: 0.9939\n",
            "Epoch 58/100\n",
            "500/500 [==============================] - 2s 4ms/step - loss: 0.0277 - Accuracy: 0.9913\n",
            "Epoch 59/100\n",
            "500/500 [==============================] - 2s 4ms/step - loss: 0.0215 - Accuracy: 0.9937\n",
            "Epoch 60/100\n",
            "500/500 [==============================] - 2s 4ms/step - loss: 0.0481 - Accuracy: 0.9853\n",
            "Epoch 61/100\n",
            "500/500 [==============================] - 2s 4ms/step - loss: 0.0046 - Accuracy: 0.9987\n",
            "Epoch 62/100\n",
            "500/500 [==============================] - 2s 4ms/step - loss: 0.0014 - Accuracy: 0.9996\n",
            "Epoch 63/100\n",
            "500/500 [==============================] - 2s 4ms/step - loss: 0.0568 - Accuracy: 0.9853\n",
            "Epoch 64/100\n",
            "500/500 [==============================] - 2s 4ms/step - loss: 0.0306 - Accuracy: 0.9909\n",
            "Epoch 65/100\n",
            "500/500 [==============================] - 2s 4ms/step - loss: 0.0366 - Accuracy: 0.9907\n",
            "Epoch 66/100\n",
            "500/500 [==============================] - 2s 4ms/step - loss: 0.0168 - Accuracy: 0.9953\n",
            "Epoch 67/100\n",
            "500/500 [==============================] - 2s 3ms/step - loss: 0.0312 - Accuracy: 0.9900\n",
            "Epoch 68/100\n",
            "500/500 [==============================] - 2s 4ms/step - loss: 0.0260 - Accuracy: 0.9917\n",
            "Epoch 69/100\n",
            "500/500 [==============================] - 2s 4ms/step - loss: 0.0057 - Accuracy: 0.9981\n",
            "Epoch 70/100\n",
            "500/500 [==============================] - 2s 4ms/step - loss: 4.1692e-04 - Accuracy: 0.9999\n",
            "Epoch 71/100\n",
            "500/500 [==============================] - 2s 4ms/step - loss: 0.0758 - Accuracy: 0.9816\n",
            "Epoch 72/100\n",
            "500/500 [==============================] - 2s 4ms/step - loss: 0.0174 - Accuracy: 0.9953\n",
            "Epoch 73/100\n",
            "500/500 [==============================] - 2s 4ms/step - loss: 0.0225 - Accuracy: 0.9929\n",
            "Epoch 74/100\n",
            "500/500 [==============================] - 2s 3ms/step - loss: 0.0337 - Accuracy: 0.9898\n",
            "Epoch 75/100\n",
            "500/500 [==============================] - 2s 4ms/step - loss: 0.0418 - Accuracy: 0.9893\n",
            "Epoch 76/100\n",
            "500/500 [==============================] - 2s 4ms/step - loss: 0.0304 - Accuracy: 0.9907\n",
            "Epoch 77/100\n",
            "500/500 [==============================] - 2s 4ms/step - loss: 0.0146 - Accuracy: 0.9963\n",
            "Epoch 78/100\n",
            "500/500 [==============================] - 2s 4ms/step - loss: 0.0146 - Accuracy: 0.9967\n",
            "Epoch 79/100\n",
            "500/500 [==============================] - 2s 4ms/step - loss: 0.0422 - Accuracy: 0.9882\n",
            "Epoch 80/100\n",
            "500/500 [==============================] - 2s 4ms/step - loss: 0.0093 - Accuracy: 0.9969\n",
            "Epoch 81/100\n",
            "500/500 [==============================] - 2s 4ms/step - loss: 0.0298 - Accuracy: 0.9922\n",
            "Epoch 82/100\n",
            "500/500 [==============================] - 2s 4ms/step - loss: 0.0279 - Accuracy: 0.9923\n",
            "Epoch 83/100\n",
            "500/500 [==============================] - 2s 4ms/step - loss: 0.0216 - Accuracy: 0.9935\n",
            "Epoch 84/100\n",
            "500/500 [==============================] - 2s 4ms/step - loss: 0.0232 - Accuracy: 0.9939\n",
            "Epoch 85/100\n",
            "500/500 [==============================] - 2s 4ms/step - loss: 0.0333 - Accuracy: 0.9904\n",
            "Epoch 86/100\n",
            "500/500 [==============================] - 2s 4ms/step - loss: 0.0092 - Accuracy: 0.9972\n",
            "Epoch 87/100\n",
            "500/500 [==============================] - 2s 4ms/step - loss: 0.0297 - Accuracy: 0.9918\n",
            "Epoch 88/100\n",
            "500/500 [==============================] - 2s 4ms/step - loss: 0.0409 - Accuracy: 0.9897\n",
            "Epoch 89/100\n",
            "500/500 [==============================] - 2s 4ms/step - loss: 0.0107 - Accuracy: 0.9967\n",
            "Epoch 90/100\n",
            "500/500 [==============================] - 2s 4ms/step - loss: 0.0183 - Accuracy: 0.9951\n",
            "Epoch 91/100\n",
            "500/500 [==============================] - 2s 4ms/step - loss: 0.0256 - Accuracy: 0.9931\n",
            "Epoch 92/100\n",
            "500/500 [==============================] - 2s 4ms/step - loss: 0.0271 - Accuracy: 0.9929\n",
            "Epoch 93/100\n",
            "500/500 [==============================] - 2s 4ms/step - loss: 0.0035 - Accuracy: 0.9992\n",
            "Epoch 94/100\n",
            "500/500 [==============================] - 2s 4ms/step - loss: 0.0286 - Accuracy: 0.9915\n",
            "Epoch 95/100\n",
            "500/500 [==============================] - 2s 4ms/step - loss: 0.0393 - Accuracy: 0.9894\n",
            "Epoch 96/100\n",
            "500/500 [==============================] - 2s 4ms/step - loss: 0.0260 - Accuracy: 0.9934\n",
            "Epoch 97/100\n",
            "500/500 [==============================] - 2s 4ms/step - loss: 0.0228 - Accuracy: 0.9940\n",
            "Epoch 98/100\n",
            "500/500 [==============================] - 2s 4ms/step - loss: 0.0366 - Accuracy: 0.9922\n",
            "Epoch 99/100\n",
            "500/500 [==============================] - 2s 4ms/step - loss: 0.0146 - Accuracy: 0.9957\n",
            "Epoch 100/100\n",
            "500/500 [==============================] - 2s 4ms/step - loss: 0.0106 - Accuracy: 0.9967\n"
          ]
        }
      ]
    },
    {
      "cell_type": "code",
      "source": [
        "model.save(\"/content/drive/MyDrive/vegetablefile/vege1.h5\")"
      ],
      "metadata": {
        "id": "B3UuPyU_wdst"
      },
      "execution_count": 24,
      "outputs": []
    }
  ]
}
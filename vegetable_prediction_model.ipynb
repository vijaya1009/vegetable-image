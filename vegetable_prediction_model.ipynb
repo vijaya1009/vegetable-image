{
  "nbformat": 4,
  "nbformat_minor": 0,
  "metadata": {
    "colab": {
      "provenance": []
    },
    "kernelspec": {
      "name": "python3",
      "display_name": "Python 3"
    },
    "language_info": {
      "name": "python"
    },
    "accelerator": "GPU",
    "gpuClass": "standard"
  },
  "cells": [
    {
      "cell_type": "code",
      "execution_count": 1,
      "metadata": {
        "colab": {
          "base_uri": "https://localhost:8080/"
        },
        "id": "g7a99ORdwt_f",
        "outputId": "26bdc19e-5a2b-492b-cd3a-40e94990e178"
      },
      "outputs": [
        {
          "output_type": "stream",
          "name": "stdout",
          "text": [
            "Drive already mounted at /content/drive/; to attempt to forcibly remount, call drive.mount(\"/content/drive/\", force_remount=True).\n"
          ]
        }
      ],
      "source": [
        "from google.colab import drive\n",
        "drive.mount(\"/content/drive/\")\n",
        "     "
      ]
    },
    {
      "cell_type": "code",
      "source": [
        "filepath= \"/content/drive/MyDrive/Colab Notebooks/Dataset/archive (4).zip\""
      ],
      "metadata": {
        "id": "83XXJERu6uDI"
      },
      "execution_count": 2,
      "outputs": []
    },
    {
      "cell_type": "code",
      "source": [
        "from zipfile import ZipFile\n",
        "\n",
        "with ZipFile(filepath) as f:\n",
        "  f.extractall(\"./veg\")\n",
        "  print(\"Data extracted\")"
      ],
      "metadata": {
        "colab": {
          "base_uri": "https://localhost:8080/"
        },
        "id": "h3_oVgLyxIIk",
        "outputId": "018b1c3a-9468-4121-b547-577b95d69cd7"
      },
      "execution_count": 3,
      "outputs": [
        {
          "output_type": "stream",
          "name": "stdout",
          "text": [
            "Data extracted\n"
          ]
        }
      ]
    },
    {
      "cell_type": "code",
      "source": [
        "import tensorflow as tf\n",
        "from tensorflow.keras import layers\n",
        "from PIL import Image\n",
        "import numpy as np"
      ],
      "metadata": {
        "id": "dLj42PL3x2yn"
      },
      "execution_count": 4,
      "outputs": []
    },
    {
      "cell_type": "code",
      "source": [
        "model = tf.keras.models.load_model(\"/content/drive/MyDrive/vegetablefile/vege1.h5\")\n",
        "classes = [\n",
        "    \"Bean\",\n",
        "    \"Bitter_Gourd\",\n",
        "    \"Bottle_Gourd\",\n",
        "    \"Brinjal\",\n",
        "    \"Broccoli\",\n",
        "    \"Cabbage\",\n",
        "    \"Capsicum\",\n",
        "    \"Carrot\",\n",
        "    \"Cauliflower\",\n",
        "    \"Cucumber\",\n",
        "    \"Papaya\",\n",
        "    \"Potato\",\n",
        "    \"Pumpkin\",\n",
        "    \"Radish\",\n",
        "    \"Tomato\"\n",
        "]\n",
        "model.summary()"
      ],
      "metadata": {
        "colab": {
          "base_uri": "https://localhost:8080/"
        },
        "id": "27hwj08Cx8yk",
        "outputId": "016585e2-95af-4871-f016-cfcc880ab5d2"
      },
      "execution_count": 5,
      "outputs": [
        {
          "output_type": "stream",
          "name": "stdout",
          "text": [
            "Model: \"sequential_1\"\n",
            "_________________________________________________________________\n",
            " Layer (type)                Output Shape              Param #   \n",
            "=================================================================\n",
            " conv2d_4 (Conv2D)           (None, 32, 32, 9)         684       \n",
            "                                                                 \n",
            " max_pooling2d_4 (MaxPooling  (None, 16, 16, 9)        0         \n",
            " 2D)                                                             \n",
            "                                                                 \n",
            " conv2d_5 (Conv2D)           (None, 16, 16, 18)        1476      \n",
            "                                                                 \n",
            " max_pooling2d_5 (MaxPooling  (None, 8, 8, 18)         0         \n",
            " 2D)                                                             \n",
            "                                                                 \n",
            " conv2d_6 (Conv2D)           (None, 8, 8, 27)          4401      \n",
            "                                                                 \n",
            " max_pooling2d_6 (MaxPooling  (None, 4, 4, 27)         0         \n",
            " 2D)                                                             \n",
            "                                                                 \n",
            " conv2d_7 (Conv2D)           (None, 4, 4, 27)          6588      \n",
            "                                                                 \n",
            " max_pooling2d_7 (MaxPooling  (None, 2, 2, 27)         0         \n",
            " 2D)                                                             \n",
            "                                                                 \n",
            " flatten_1 (Flatten)         (None, 108)               0         \n",
            "                                                                 \n",
            " dense_2 (Dense)             (None, 300)               32700     \n",
            "                                                                 \n",
            " dense_3 (Dense)             (None, 15)                4515      \n",
            "                                                                 \n",
            " softmax_1 (Softmax)         (None, 15)                0         \n",
            "                                                                 \n",
            "=================================================================\n",
            "Total params: 50,364\n",
            "Trainable params: 50,364\n",
            "Non-trainable params: 0\n",
            "_________________________________________________________________\n"
          ]
        }
      ]
    },
    {
      "cell_type": "code",
      "source": [
        "image=Image.open(\"/content/veg/Vegetable Images/test/Tomato/1001.jpg\")\n",
        "image"
      ],
      "metadata": {
        "colab": {
          "base_uri": "https://localhost:8080/",
          "height": 241
        },
        "id": "oDNJSkYSzFqG",
        "outputId": "b2098bfc-119b-4be4-af1d-e991172563b1"
      },
      "execution_count": 6,
      "outputs": [
        {
          "output_type": "execute_result",
          "data": {
            "text/plain": [
              "<PIL.JpegImagePlugin.JpegImageFile image mode=RGB size=224x224 at 0x7FC7B51E7A60>"
            ],
            "image/png": "[encoded data removed]"
          },
          "metadata": {},
          "execution_count": 6
        }
      ]
    },
    {
      "cell_type": "code",
      "source": [
        "image=image.resize((32,32))\n",
        "image"
      ],
      "metadata": {
        "colab": {
          "base_uri": "https://localhost:8080/",
          "height": 49
        },
        "id": "anWDh3AWzYaa",
        "outputId": "b5fd30a5-7c2f-49bc-8dee-310dc8388755"
      },
      "execution_count": 7,
      "outputs": [
        {
          "output_type": "execute_result",
          "data": {
            "text/plain": [
              "<PIL.Image.Image image mode=RGB size=32x32 at 0x7FC74FDCA640>"
            ],
            "image/png": "[encoded data removed]"
          },
          "metadata": {},
          "execution_count": 7
        }
      ]
    },
    {
      "cell_type": "code",
      "source": [
        "def Pred(final):\n",
        "  image = Image.open(final)\n",
        "  image = image.resize((32,32))\n",
        "  test = tf.reshape(tf.constant(np.array(image)/255), (-1,32,32,3))\n",
        "  preds = model.predict(test, verbose=False)[0]*100\n",
        "  preds = tf.math.round(preds)\n",
        "  confidence = tf.reduce_max(preds)\n",
        "  index = int(tf.where(preds == confidence)[0][0])\n",
        "  pred = classes[index]\n",
        "  return f\"The type of vegetable is {pred.title()} and it's confidence is {int(confidence)}%\"\n",
        "     "
      ],
      "metadata": {
        "id": "X73rkkjgzjLU"
      },
      "execution_count": 8,
      "outputs": []
    },
    {
      "cell_type": "code",
      "source": [
        "\n",
        "img = Image.open(\"/content/veg/Vegetable Images/test/Carrot/1001.jpg\")\n",
        "img = img.resize((32,32))\n",
        "img\n",
        "\n"
      ],
      "metadata": {
        "colab": {
          "base_uri": "https://localhost:8080/",
          "height": 49
        },
        "id": "vhARVr-lzyWy",
        "outputId": "8eb32aaf-59d0-4396-bb17-05b6e4e06e2a"
      },
      "execution_count": 9,
      "outputs": [
        {
          "output_type": "execute_result",
          "data": {
            "text/plain": [
              "<PIL.Image.Image image mode=RGB size=32x32 at 0x7FC7401C2F10>"
            ],
            "image/png": "[encoded data removed]"
          },
          "metadata": {},
          "execution_count": 9
        }
      ]
    },
    {
      "cell_type": "code",
      "source": [
        "Pred(\"/content/veg/Vegetable Images/test/Bean/0003.jpg\")"
      ],
      "metadata": {
        "colab": {
          "base_uri": "https://localhost:8080/",
          "height": 36
        },
        "id": "UDHwEZ4I0atQ",
        "outputId": "a6833f33-b93f-41d2-e359-736f15a465c4"
      },
      "execution_count": 10,
      "outputs": [
        {
          "output_type": "execute_result",
          "data": {
            "text/plain": [
              "\"The type of vegetable is Bean and it's confidence is 100%\""
            ],
            "application/vnd.google.colaboratory.intrinsic+json": {
              "type": "string"
            }
          },
          "metadata": {},
          "execution_count": 10
        }
      ]
    },
    {
      "cell_type": "code",
      "source": [
        "Pred(\"/content/veg/Vegetable Images/test/Cabbage/0929.jpg\")\n"
      ],
      "metadata": {
        "colab": {
          "base_uri": "https://localhost:8080/",
          "height": 36
        },
        "id": "Zna7ZVeaELq0",
        "outputId": "fc0909b5-1dc0-4a86-86c8-0cfeeea63055"
      },
      "execution_count": 11,
      "outputs": [
        {
          "output_type": "execute_result",
          "data": {
            "text/plain": [
              "\"The type of vegetable is Cabbage and it's confidence is 100%\""
            ],
            "application/vnd.google.colaboratory.intrinsic+json": {
              "type": "string"
            }
          },
          "metadata": {},
          "execution_count": 11
        }
      ]
    },
    {
      "cell_type": "code",
      "source": [
        "Pred(\"/content/veg/Vegetable Images/test/Tomato/1008.jpg\")"
      ],
      "metadata": {
        "colab": {
          "base_uri": "https://localhost:8080/",
          "height": 36
        },
        "id": "U3zOm97zEinu",
        "outputId": "e3a97794-08e6-4c73-a28c-89050e6916d2"
      },
      "execution_count": 12,
      "outputs": [
        {
          "output_type": "execute_result",
          "data": {
            "text/plain": [
              "\"The type of vegetable is Tomato and it's confidence is 100%\""
            ],
            "application/vnd.google.colaboratory.intrinsic+json": {
              "type": "string"
            }
          },
          "metadata": {},
          "execution_count": 12
        }
      ]
    },
    {
      "cell_type": "code",
      "source": [
        "Pred(\"/content/veg/Vegetable Images/test/Carrot/1007.jpg\")"
      ],
      "metadata": {
        "colab": {
          "base_uri": "https://localhost:8080/",
          "height": 36
        },
        "id": "YoqQSEKBEm_6",
        "outputId": "f94940ca-2090-4e9b-d114-9c79021f424a"
      },
      "execution_count": 13,
      "outputs": [
        {
          "output_type": "execute_result",
          "data": {
            "text/plain": [
              "\"The type of vegetable is Carrot and it's confidence is 100%\""
            ],
            "application/vnd.google.colaboratory.intrinsic+json": {
              "type": "string"
            }
          },
          "metadata": {},
          "execution_count": 13
        }
      ]
    },
    {
      "cell_type": "code",
      "source": [
        "Pred(\"/content/veg/Vegetable Images/validation/Papaya/0821.jpg\")"
      ],
      "metadata": {
        "colab": {
          "base_uri": "https://localhost:8080/",
          "height": 36
        },
        "id": "C3iRja3zH9Gz",
        "outputId": "7384392a-b7f4-474f-8de8-e46ece0af601"
      },
      "execution_count": 14,
      "outputs": [
        {
          "output_type": "execute_result",
          "data": {
            "text/plain": [
              "\"The type of vegetable is Papaya and it's confidence is 100%\""
            ],
            "application/vnd.google.colaboratory.intrinsic+json": {
              "type": "string"
            }
          },
          "metadata": {},
          "execution_count": 14
        }
      ]
    },
    {
      "cell_type": "code",
      "source": [
        "Pred(\"/content/veg/Vegetable Images/test/Carrot/1001.jpg\")"
      ],
      "metadata": {
        "colab": {
          "base_uri": "https://localhost:8080/",
          "height": 36
        },
        "id": "b0duJj2uFJY5",
        "outputId": "c23e8e4f-1cf5-4342-a24b-38d69404c3d6"
      },
      "execution_count": 15,
      "outputs": [
        {
          "output_type": "execute_result",
          "data": {
            "text/plain": [
              "\"The type of vegetable is Carrot and it's confidence is 100%\""
            ],
            "application/vnd.google.colaboratory.intrinsic+json": {
              "type": "string"
            }
          },
          "metadata": {},
          "execution_count": 15
        }
      ]
    },
    {
      "cell_type": "code",
      "source": [
        "Pred(\"/content/veg/Vegetable Images/test/Bean/0001.jpg\")"
      ],
      "metadata": {
        "colab": {
          "base_uri": "https://localhost:8080/",
          "height": 36
        },
        "id": "F03km20uGBx5",
        "outputId": "23a3adce-60a0-4656-ef72-72aab371efbc"
      },
      "execution_count": 19,
      "outputs": [
        {
          "output_type": "execute_result",
          "data": {
            "text/plain": [
              "\"The type of vegetable is Bean and it's confidence is 98%\""
            ],
            "application/vnd.google.colaboratory.intrinsic+json": {
              "type": "string"
            }
          },
          "metadata": {},
          "execution_count": 19
        }
      ]
    },
    {
      "cell_type": "code",
      "source": [
        "Pred(\"/content/veg/Vegetable Images/test/Capsicum/1197.jpg\")"
      ],
      "metadata": {
        "colab": {
          "base_uri": "https://localhost:8080/",
          "height": 36
        },
        "id": "sk95jEtaGHtq",
        "outputId": "d9e5aa84-f558-4fe3-b0fc-28d1778aa0a0"
      },
      "execution_count": 20,
      "outputs": [
        {
          "output_type": "execute_result",
          "data": {
            "text/plain": [
              "\"The type of vegetable is Tomato and it's confidence is 100%\""
            ],
            "application/vnd.google.colaboratory.intrinsic+json": {
              "type": "string"
            }
          },
          "metadata": {},
          "execution_count": 20
        }
      ]
    }
  ]
}
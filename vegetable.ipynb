{
  "nbformat": 4,
  "nbformat_minor": 0,
  "metadata": {
    "colab": {
      "provenance": []
    },
    "kernelspec": {
      "name": "python3",
      "display_name": "Python 3"
    },
    "language_info": {
      "name": "python"
    }
  },
  "cells": [
    {
      "cell_type": "code",
      "execution_count": 11,
      "metadata": {
        "colab": {
          "base_uri": "https://localhost:8080/"
        },
        "id": "b06dYj6_Hg29",
        "outputId": "039eff88-0cc5-4127-e5b0-949e1520d86c"
      },
      "outputs": [
        {
          "output_type": "stream",
          "name": "stdout",
          "text": [
            "Drive already mounted at /content/drive/; to attempt to forcibly remount, call drive.mount(\"/content/drive/\", force_remount=True).\n"
          ]
        }
      ],
      "source": [
        "from google.colab import drive\n",
        "drive.mount(\"/content/drive/\")\n",
        "     "
      ]
    },
    {
      "cell_type": "code",
      "source": [
        "import os\n",
        "os.listdir(\"/content/drive/MyDrive/Colab Notebooks\")"
      ],
      "metadata": {
        "colab": {
          "base_uri": "https://localhost:8080/"
        },
        "id": "4GzfAjdpRHWM",
        "outputId": "0436f26a-b699-4cfb-ff2a-05bb770606ec"
      },
      "execution_count": 12,
      "outputs": [
        {
          "output_type": "execute_result",
          "data": {
            "text/plain": [
              "['credit_card_churn.csv',\n",
              " 'Untitled0.ipynb',\n",
              " 'Copy of Welcome To Colaboratory (1)',\n",
              " 'Untitled1.ipynb',\n",
              " 'credit.ipynb',\n",
              " 'Copy of Welcome To Colaboratory',\n",
              " 'Untitled2.ipynb',\n",
              " 'Untitled3.ipynb',\n",
              " 'Dataset',\n",
              " 'vegetable.ipynb']"
            ]
          },
          "metadata": {},
          "execution_count": 12
        }
      ]
    },
    {
      "cell_type": "code",
      "source": [
        "filepath = \"/content/drive/MyDrive/Colab Notebooks/Dataset/archive (4).zip\""
      ],
      "metadata": {
        "id": "YxUBb1cORR8F"
      },
      "execution_count": 13,
      "outputs": []
    },
    {
      "cell_type": "code",
      "source": [
        "from zipfile import ZipFile\n",
        "\n",
        "with ZipFile(filepath) as f:\n",
        "  f.extractall(\"./veg\")\n",
        "  print(\"Data extracted\")"
      ],
      "metadata": {
        "colab": {
          "base_uri": "https://localhost:8080/"
        },
        "id": "B-1nHDHlR8_4",
        "outputId": "d24c95a3-6b53-49db-9d81-6b55b6db2e0b"
      },
      "execution_count": 14,
      "outputs": [
        {
          "output_type": "stream",
          "name": "stdout",
          "text": [
            "Data extracted\n"
          ]
        }
      ]
    },
    {
      "cell_type": "code",
      "source": [
        "os.listdir(\".\")"
      ],
      "metadata": {
        "colab": {
          "base_uri": "https://localhost:8080/"
        },
        "id": "KTzHSxH7b5Z4",
        "outputId": "386298c3-a2ab-495f-aada-19a3363d9184"
      },
      "execution_count": 15,
      "outputs": [
        {
          "output_type": "execute_result",
          "data": {
            "text/plain": [
              "['.config', 'drive', 'veg', 'sample_data']"
            ]
          },
          "metadata": {},
          "execution_count": 15
        }
      ]
    },
    {
      "cell_type": "code",
      "source": [
        "import tensorflow as tf\n",
        "from PIL import Image\n",
        "from tensorflow.keras import layers"
      ],
      "metadata": {
        "id": "KYo09ozicLYE"
      },
      "execution_count": 16,
      "outputs": []
    },
    {
      "cell_type": "code",
      "source": [
        "\n",
        "img = Image.open(\"/content/veg/Vegetable Images/test/Bean/0001.jpg\")\n",
        "img.size\n",
        "     \n"
      ],
      "metadata": {
        "colab": {
          "base_uri": "https://localhost:8080/"
        },
        "id": "dYIbWzoncRMv",
        "outputId": "de505d13-58fd-4044-d8af-1d9824889ea1"
      },
      "execution_count": 17,
      "outputs": [
        {
          "output_type": "execute_result",
          "data": {
            "text/plain": [
              "(224, 224)"
            ]
          },
          "metadata": {},
          "execution_count": 17
        }
      ]
    },
    {
      "cell_type": "code",
      "source": [
        "data= tf.keras.utils.image_dataset_from_directory(\n",
        "    \"/content/veg/Vegetable Images/train\",\n",
        "    image_size=(32,32),\n",
        "    color_mode=\"rgb\",\n",
        "    batch_size=15000\n",
        ")\n",
        "     "
      ],
      "metadata": {
        "colab": {
          "base_uri": "https://localhost:8080/"
        },
        "id": "haCiwdgYcfDS",
        "outputId": "34d68475-4aaf-4843-b3c5-f1bd9c59b8fe"
      },
      "execution_count": 18,
      "outputs": [
        {
          "output_type": "stream",
          "name": "stdout",
          "text": [
            "Found 15000 files belonging to 15 classes.\n"
          ]
        }
      ]
    },
    {
      "cell_type": "code",
      "source": [
        "len(data)"
      ],
      "metadata": {
        "colab": {
          "base_uri": "https://localhost:8080/"
        },
        "id": "yqwQw371dN51",
        "outputId": "974ad3cc-c48d-40b3-ea92-285be9dcf460"
      },
      "execution_count": 19,
      "outputs": [
        {
          "output_type": "execute_result",
          "data": {
            "text/plain": [
              "1"
            ]
          },
          "metadata": {},
          "execution_count": 19
        }
      ]
    },
    {
      "cell_type": "code",
      "source": [
        "\n",
        "model=tf.keras.Sequential([\n",
        "    layers.Conv2D(18,5,padding=\"same\", activation=\"relu\", input_shape=(32,32,3)),\n",
        "    layers.MaxPool2D(),\n",
        "    layers.Conv2D(18,3,padding=\"same\", activation=\"leaky_relu\"),\n",
        "    layers.MaxPool2D(),\n",
        "    layers.Conv2D(36,3,padding=\"same\", activation=\"leaky_relu\"),\n",
        "    layers.MaxPool2D(),\n",
        "    layers.Conv2D(36,3,padding=\"same\", activation=\"leaky_relu\"),\n",
        "    layers.MaxPool2D(),\n",
        "    layers.Flatten(),\n",
        "    layers.Dense(10,activation=\"relu\"),\n",
        "    layers.Softmax()\n",
        "])"
      ],
      "metadata": {
        "id": "e5OPObPNdQ7z"
      },
      "execution_count": 20,
      "outputs": []
    },
    {
      "cell_type": "code",
      "source": [
        "model.summary()"
      ],
      "metadata": {
        "colab": {
          "base_uri": "https://localhost:8080/"
        },
        "id": "nDPFyFRYhdp8",
        "outputId": "50a2a6e4-ac39-47bc-c221-bcafbfbbd137"
      },
      "execution_count": 21,
      "outputs": [
        {
          "output_type": "stream",
          "name": "stdout",
          "text": [
            "Model: \"sequential_1\"\n",
            "_________________________________________________________________\n",
            " Layer (type)                Output Shape              Param #   \n",
            "=================================================================\n",
            " conv2d_4 (Conv2D)           (None, 32, 32, 18)        1368      \n",
            "                                                                 \n",
            " max_pooling2d_4 (MaxPooling  (None, 16, 16, 18)       0         \n",
            " 2D)                                                             \n",
            "                                                                 \n",
            " conv2d_5 (Conv2D)           (None, 16, 16, 18)        2934      \n",
            "                                                                 \n",
            " max_pooling2d_5 (MaxPooling  (None, 8, 8, 18)         0         \n",
            " 2D)                                                             \n",
            "                                                                 \n",
            " conv2d_6 (Conv2D)           (None, 8, 8, 36)          5868      \n",
            "                                                                 \n",
            " max_pooling2d_6 (MaxPooling  (None, 4, 4, 36)         0         \n",
            " 2D)                                                             \n",
            "                                                                 \n",
            " conv2d_7 (Conv2D)           (None, 4, 4, 36)          11700     \n",
            "                                                                 \n",
            " max_pooling2d_7 (MaxPooling  (None, 2, 2, 36)         0         \n",
            " 2D)                                                             \n",
            "                                                                 \n",
            " flatten_1 (Flatten)         (None, 144)               0         \n",
            "                                                                 \n",
            " dense_1 (Dense)             (None, 10)                1450      \n",
            "                                                                 \n",
            " softmax_1 (Softmax)         (None, 10)                0         \n",
            "                                                                 \n",
            "=================================================================\n",
            "Total params: 23,320\n",
            "Trainable params: 23,320\n",
            "Non-trainable params: 0\n",
            "_________________________________________________________________\n"
          ]
        }
      ]
    },
    {
      "cell_type": "code",
      "source": [
        "model.compile(\n",
        "    loss = tf.keras.losses.categorical_crossentropy,\n",
        "    optimizer = tf.keras.optimizers.Adam(),\n",
        "    metrics = [\"Accuracy\"]\n",
        ")"
      ],
      "metadata": {
        "id": "inRYTUKGdfVU"
      },
      "execution_count": 22,
      "outputs": []
    },
    {
      "cell_type": "code",
      "source": [
        "for features,labels in data:\n",
        "    features=tf.divide(features,255)\n",
        "    labels=tf.one_hot(labels,10)\n",
        "    record=model.fit(features,labels,batch_size=15,epochs=10)"
      ],
      "metadata": {
        "colab": {
          "base_uri": "https://localhost:8080/"
        },
        "id": "CjOsReNwiDzQ",
        "outputId": "1a082a65-f9a0-4bf2-8801-e1d08a3cf894"
      },
      "execution_count": 23,
      "outputs": [
        {
          "output_type": "stream",
          "name": "stdout",
          "text": [
            "Epoch 1/10\n",
            "1000/1000 [==============================] - 34s 33ms/step - loss: 1.5351 - Accuracy: 0.3969\n",
            "Epoch 2/10\n",
            "1000/1000 [==============================] - 38s 38ms/step - loss: 1.5350 - Accuracy: 0.4000\n",
            "Epoch 3/10\n",
            "1000/1000 [==============================] - 34s 34ms/step - loss: 1.5350 - Accuracy: 0.4000\n",
            "Epoch 4/10\n",
            "1000/1000 [==============================] - 33s 33ms/step - loss: 1.5350 - Accuracy: 0.4000\n",
            "Epoch 5/10\n",
            "1000/1000 [==============================] - 33s 33ms/step - loss: 1.5350 - Accuracy: 0.4000\n",
            "Epoch 6/10\n",
            "1000/1000 [==============================] - 34s 34ms/step - loss: 1.5350 - Accuracy: 0.4000\n",
            "Epoch 7/10\n",
            "1000/1000 [==============================] - 34s 34ms/step - loss: 1.5350 - Accuracy: 0.4000\n",
            "Epoch 8/10\n",
            "1000/1000 [==============================] - 33s 33ms/step - loss: 1.5350 - Accuracy: 0.4000\n",
            "Epoch 9/10\n",
            "1000/1000 [==============================] - 36s 36ms/step - loss: 1.5350 - Accuracy: 0.4000\n",
            "Epoch 10/10\n",
            "1000/1000 [==============================] - 34s 34ms/step - loss: 1.5350 - Accuracy: 0.4000\n"
          ]
        }
      ]
    },
    {
      "cell_type": "code",
      "source": [
        "model.save(\"/content/drive/MyDrive/vegetablefile.h5\")\n",
        "     "
      ],
      "metadata": {
        "id": "B3UuPyU_wdst"
      },
      "execution_count": 24,
      "outputs": []
    }
  ]
}